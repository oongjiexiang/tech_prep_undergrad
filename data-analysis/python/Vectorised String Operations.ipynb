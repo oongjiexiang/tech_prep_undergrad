{
 "cells": [
  {
   "cell_type": "code",
   "execution_count": 1,
   "id": "fdfbf633",
   "metadata": {
    "ExecuteTime": {
     "end_time": "2021-06-06T08:05:08.914711Z",
     "start_time": "2021-06-06T08:05:08.898764Z"
    },
    "code_folding": [
     0
    ]
   },
   "outputs": [],
   "source": [
    "# Imports\n",
    "import pandas as pd\n",
    "import numpy as np"
   ]
  },
  {
   "cell_type": "markdown",
   "id": "f5754c29",
   "metadata": {},
   "source": [
    "# `.str` attribute in Pandas Data Structure\n",
    "Allows vectorised operations on Series or df without errors even if there are `None` values\n",
    "1. Alignment: `ljust()`, `rjust()`, `center()`, `strip()`, `rstrip()`\n",
    "2. Find words: `find()`, `rfind()`, `index()`, `rindex()`, `startswith()`, `endswith()`\n",
    "3. Modify words: `capitalize()`, `swapcase()`, `translate()`, `lower()`\n",
    "4. Test: `isupper()`, `istitle()`\n",
    "5. Tokenize: `split()`, `partition()`\n",
    "6. Regex: `count()`, `replace()`, `match()`"
   ]
  },
  {
   "cell_type": "code",
   "execution_count": 3,
   "id": "733107a1",
   "metadata": {
    "ExecuteTime": {
     "end_time": "2021-06-06T08:06:22.287738Z",
     "start_time": "2021-06-06T08:06:22.277804Z"
    }
   },
   "outputs": [
    {
     "name": "stdout",
     "output_type": "stream",
     "text": [
      "0    PETER\n",
      "1     PAUL\n",
      "2     None\n",
      "3     MARY\n",
      "4    GUIDO\n",
      "dtype: object\n"
     ]
    }
   ],
   "source": [
    "# capitalise each word\n",
    "data = ['peter', 'Paul', None, 'MARY', 'gUIDO']\n",
    "try:\n",
    "    [s.capitalize() for s in data]\n",
    "except AttributeError:\n",
    "    names = pd.Series(data)\n",
    "    print(names.str.capitalize())"
   ]
  },
  {
   "cell_type": "code",
   "execution_count": 5,
   "id": "fc074426",
   "metadata": {
    "ExecuteTime": {
     "end_time": "2021-06-06T08:06:45.615747Z",
     "start_time": "2021-06-06T08:06:45.598846Z"
    }
   },
   "outputs": [],
   "source": [
    "monte = pd.Series(['Graham Chapman', 'John Cleese', 'Terry Gilliam', 'Eric Idle', 'Terry Jones', 'Michael Palin'])"
   ]
  },
  {
   "cell_type": "code",
   "execution_count": 11,
   "id": "1e12f344",
   "metadata": {
    "ExecuteTime": {
     "end_time": "2021-06-06T08:11:06.186634Z",
     "start_time": "2021-06-06T08:11:06.165707Z"
    }
   },
   "outputs": [
    {
     "name": "stdout",
     "output_type": "stream",
     "text": [
      "         0\n",
      "0   Graham\n",
      "1     John\n",
      "2    Terry\n",
      "3     Eric\n",
      "4    Terry\n",
      "5  Michael\n",
      "0    [Graham Chapman]\n",
      "1                  []\n",
      "2     [Terry Gilliam]\n",
      "3                  []\n",
      "4       [Terry Jones]\n",
      "5     [Michael Palin]\n",
      "dtype: object\n"
     ]
    },
    {
     "data": {
      "text/plain": [
       "0    Chapman\n",
       "1     Cleese\n",
       "2    Gilliam\n",
       "3       Idle\n",
       "4      Jones\n",
       "5      Palin\n",
       "dtype: object"
      ]
     },
     "execution_count": 11,
     "metadata": {},
     "output_type": "execute_result"
    }
   ],
   "source": [
    "monte.str.lower()\n",
    "monte.str.startswith('T')\n",
    "monte.str.split()\n",
    "\n",
    "# get first name\n",
    "print(monte.str.extract('([A-Za-z]+)')) # capture group\n",
    "# find names that start and end with a consonant\n",
    "print(monte.str.findall(r'^[^AEIOU].*[^aeiou]$'))\n",
    "\n",
    "# Indexing\n",
    "monte.str[0:3]\n",
    "monte.str.split().str.get(-1)"
   ]
  },
  {
   "cell_type": "markdown",
   "id": "28ddcdf5",
   "metadata": {},
   "source": [
    "# `get_dummies()` to get df from a column that stores info by separator"
   ]
  },
  {
   "cell_type": "code",
   "execution_count": 12,
   "id": "ba035396",
   "metadata": {
    "ExecuteTime": {
     "end_time": "2021-06-06T08:12:01.159611Z",
     "start_time": "2021-06-06T08:12:01.136734Z"
    }
   },
   "outputs": [
    {
     "data": {
      "text/html": [
       "<div>\n",
       "<style scoped>\n",
       "    .dataframe tbody tr th:only-of-type {\n",
       "        vertical-align: middle;\n",
       "    }\n",
       "\n",
       "    .dataframe tbody tr th {\n",
       "        vertical-align: top;\n",
       "    }\n",
       "\n",
       "    .dataframe thead th {\n",
       "        text-align: right;\n",
       "    }\n",
       "</style>\n",
       "<table border=\"1\" class=\"dataframe\">\n",
       "  <thead>\n",
       "    <tr style=\"text-align: right;\">\n",
       "      <th></th>\n",
       "      <th>name</th>\n",
       "      <th>info</th>\n",
       "    </tr>\n",
       "  </thead>\n",
       "  <tbody>\n",
       "    <tr>\n",
       "      <th>0</th>\n",
       "      <td>Graham Chapman</td>\n",
       "      <td>B|C|D</td>\n",
       "    </tr>\n",
       "    <tr>\n",
       "      <th>1</th>\n",
       "      <td>John Cleese</td>\n",
       "      <td>B|D</td>\n",
       "    </tr>\n",
       "    <tr>\n",
       "      <th>2</th>\n",
       "      <td>Terry Gilliam</td>\n",
       "      <td>A|C</td>\n",
       "    </tr>\n",
       "    <tr>\n",
       "      <th>3</th>\n",
       "      <td>Eric Idle</td>\n",
       "      <td>B|D</td>\n",
       "    </tr>\n",
       "    <tr>\n",
       "      <th>4</th>\n",
       "      <td>Terry Jones</td>\n",
       "      <td>B|C</td>\n",
       "    </tr>\n",
       "    <tr>\n",
       "      <th>5</th>\n",
       "      <td>Michael Palin</td>\n",
       "      <td>B|C|D</td>\n",
       "    </tr>\n",
       "  </tbody>\n",
       "</table>\n",
       "</div>"
      ],
      "text/plain": [
       "             name   info\n",
       "0  Graham Chapman  B|C|D\n",
       "1     John Cleese    B|D\n",
       "2   Terry Gilliam    A|C\n",
       "3       Eric Idle    B|D\n",
       "4     Terry Jones    B|C\n",
       "5   Michael Palin  B|C|D"
      ]
     },
     "execution_count": 12,
     "metadata": {},
     "output_type": "execute_result"
    }
   ],
   "source": [
    "# get_dummies() to split info in columns!\n",
    "full_monte = pd.DataFrame({'name': monte,\n",
    "                           'info': ['B|C|D', 'B|D', 'A|C', 'B|D', 'B|C',\n",
    "                           'B|C|D']})\n",
    "full_monte"
   ]
  },
  {
   "cell_type": "code",
   "execution_count": 13,
   "id": "7aba184a",
   "metadata": {
    "ExecuteTime": {
     "end_time": "2021-06-06T08:13:17.119189Z",
     "start_time": "2021-06-06T08:13:17.090547Z"
    }
   },
   "outputs": [
    {
     "data": {
      "text/html": [
       "<div>\n",
       "<style scoped>\n",
       "    .dataframe tbody tr th:only-of-type {\n",
       "        vertical-align: middle;\n",
       "    }\n",
       "\n",
       "    .dataframe tbody tr th {\n",
       "        vertical-align: top;\n",
       "    }\n",
       "\n",
       "    .dataframe thead th {\n",
       "        text-align: right;\n",
       "    }\n",
       "</style>\n",
       "<table border=\"1\" class=\"dataframe\">\n",
       "  <thead>\n",
       "    <tr style=\"text-align: right;\">\n",
       "      <th></th>\n",
       "      <th>A</th>\n",
       "      <th>B</th>\n",
       "      <th>C</th>\n",
       "      <th>D</th>\n",
       "    </tr>\n",
       "  </thead>\n",
       "  <tbody>\n",
       "    <tr>\n",
       "      <th>0</th>\n",
       "      <td>0</td>\n",
       "      <td>1</td>\n",
       "      <td>1</td>\n",
       "      <td>1</td>\n",
       "    </tr>\n",
       "    <tr>\n",
       "      <th>1</th>\n",
       "      <td>0</td>\n",
       "      <td>1</td>\n",
       "      <td>0</td>\n",
       "      <td>1</td>\n",
       "    </tr>\n",
       "    <tr>\n",
       "      <th>2</th>\n",
       "      <td>1</td>\n",
       "      <td>0</td>\n",
       "      <td>1</td>\n",
       "      <td>0</td>\n",
       "    </tr>\n",
       "    <tr>\n",
       "      <th>3</th>\n",
       "      <td>0</td>\n",
       "      <td>1</td>\n",
       "      <td>0</td>\n",
       "      <td>1</td>\n",
       "    </tr>\n",
       "    <tr>\n",
       "      <th>4</th>\n",
       "      <td>0</td>\n",
       "      <td>1</td>\n",
       "      <td>1</td>\n",
       "      <td>0</td>\n",
       "    </tr>\n",
       "    <tr>\n",
       "      <th>5</th>\n",
       "      <td>0</td>\n",
       "      <td>1</td>\n",
       "      <td>1</td>\n",
       "      <td>1</td>\n",
       "    </tr>\n",
       "  </tbody>\n",
       "</table>\n",
       "</div>"
      ],
      "text/plain": [
       "   A  B  C  D\n",
       "0  0  1  1  1\n",
       "1  0  1  0  1\n",
       "2  1  0  1  0\n",
       "3  0  1  0  1\n",
       "4  0  1  1  0\n",
       "5  0  1  1  1"
      ]
     },
     "execution_count": 13,
     "metadata": {},
     "output_type": "execute_result"
    }
   ],
   "source": [
    "x = full_monte['info'].str.get_dummies('|')\n",
    "x"
   ]
  },
  {
   "cell_type": "markdown",
   "id": "5487c693",
   "metadata": {},
   "source": [
    "# Mock Test"
   ]
  },
  {
   "cell_type": "code",
   "execution_count": 42,
   "id": "98a711a3",
   "metadata": {
    "ExecuteTime": {
     "end_time": "2021-06-06T08:16:42.527906Z",
     "start_time": "2021-06-06T08:16:42.509972Z"
    }
   },
   "outputs": [
    {
     "name": "stdout",
     "output_type": "stream",
     "text": [
      "ValueError: Expected object or value\n"
     ]
    }
   ],
   "source": [
    "try:\n",
    "    recipes = pd.read_json('recipeitems-latest.json')\n",
    "except ValueError as e:\n",
    "    print(\"ValueError:\", e)"
   ]
  },
  {
   "cell_type": "code",
   "execution_count": 28,
   "id": "4886aa89",
   "metadata": {
    "ExecuteTime": {
     "end_time": "2021-06-06T08:22:41.461740Z",
     "start_time": "2021-06-06T08:22:40.191924Z"
    }
   },
   "outputs": [
    {
     "name": "stdout",
     "output_type": "stream",
     "text": [
      "\u001f‹\b\u0000\u00193\u000e[\u0000\u0003\u0003\u0000\u0000\u0000\u0000\u0000\u0000\u0000\u0000\u0000"
     ]
    },
    {
     "name": "stderr",
     "output_type": "stream",
     "text": [
      "  % Total    % Received % Xferd  Average Speed   Time    Time     Time  Current\n",
      "                                 Dload  Upload   Total   Spent    Left  Speed\n",
      "\r",
      "  0    20    0     0    0     0      0      0 --:--:-- --:--:-- --:--:--     0\r",
      "100    20  100    20    0     0     28      0 --:--:-- --:--:-- --:--:-- 20000\n"
     ]
    }
   ],
   "source": [
    "%%bash\n",
    "# cannot be run anymore as file is non-existent\n",
    "curl http://openrecipes.s3.amazonaws.com/recipeitems-latest.json.gz\n",
    "gunzip recipeitems-latest.json.gz"
   ]
  },
  {
   "cell_type": "code",
   "execution_count": null,
   "id": "9463cfc9",
   "metadata": {},
   "outputs": [],
   "source": [
    "# cannot be run as file is no longer there\n",
    "# Assume that the ingredient is a field that has many words indicating the ingredients\n",
    "# find the recipe name that has the longest ingredient list\n",
    "recipes.name[np.argmax(recipes.ingredients.str.len())]\n",
    "\n",
    "# find the number of recipes that require cinnamon\n",
    "recipes.ingredients.str.contains('[Cc]innamon').sum()\n",
    "\n",
    "# build a dataframe where for each row (recipe), whether the ingredient (column) is present\n",
    "spice_df = pd.DataFrame(dict((spice, recipes.ingredients.str.contains(spice, re.IGNORECASE))\n",
    "                        for spice in spice_list))\n",
    "# then get those recipes that require parsley, paprika and tarragon and find the number\n",
    "selection = spice_df.query('parsley & paprika & tarragon')\n",
    "len(selection)"
   ]
  }
 ],
 "metadata": {
  "kernelspec": {
   "display_name": "Python 3 (ipykernel)",
   "language": "python",
   "name": "python3"
  },
  "language_info": {
   "codemirror_mode": {
    "name": "ipython",
    "version": 3
   },
   "file_extension": ".py",
   "mimetype": "text/x-python",
   "name": "python",
   "nbconvert_exporter": "python",
   "pygments_lexer": "ipython3",
   "version": "3.9.13"
  },
  "toc": {
   "base_numbering": 1,
   "nav_menu": {},
   "number_sections": true,
   "sideBar": true,
   "skip_h1_title": false,
   "title_cell": "Table of Contents",
   "title_sidebar": "Contents",
   "toc_cell": false,
   "toc_position": {},
   "toc_section_display": true,
   "toc_window_display": false
  },
  "varInspector": {
   "cols": {
    "lenName": 16,
    "lenType": 16,
    "lenVar": 40
   },
   "kernels_config": {
    "python": {
     "delete_cmd_postfix": "",
     "delete_cmd_prefix": "del ",
     "library": "var_list.py",
     "varRefreshCmd": "print(var_dic_list())"
    },
    "r": {
     "delete_cmd_postfix": ") ",
     "delete_cmd_prefix": "rm(",
     "library": "var_list.r",
     "varRefreshCmd": "cat(var_dic_list()) "
    }
   },
   "types_to_exclude": [
    "module",
    "function",
    "builtin_function_or_method",
    "instance",
    "_Feature"
   ],
   "window_display": false
  }
 },
 "nbformat": 4,
 "nbformat_minor": 5
}
